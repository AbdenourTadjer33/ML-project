{
 "cells": [
  {
   "attachments": {},
   "cell_type": "markdown",
   "id": "40e87ad8",
   "metadata": {},
   "source": [
    "# Classification binaire"
   ]
  },
  {
   "cell_type": "code",
   "execution_count": null,
   "id": "068fe5bd",
   "metadata": {},
   "outputs": [],
   "source": [
    "import os\n",
    "import glob\n",
    "import pickle\n",
    "import numpy as np\n",
    "import pandas as pd\n",
    "import matplotlib.pyplot as plt\n",
    "import seaborn as sns\n",
    "import cv2\n",
    "import random as rd\n",
    "from sklearn.preprocessing import LabelEncoder, MinMaxScaler\n",
    "from sklearn.model_selection import train_test_split\n",
    "from sklearn.ensemble import RandomForestClassifier\n",
    "from sklearn.metrics import accuracy_score, confusion_matrix"
   ]
  },
  {
   "cell_type": "code",
   "execution_count": null,
   "id": "687e5fd0",
   "metadata": {},
   "outputs": [],
   "source": [
    "# Recuperation des images \n",
    "def data_recovery(size=128, path =\"cats_dogs/Train/*\"):\n",
    "    NoneType = type(None)       \n",
    "    images_set = []\n",
    "    labels_set = [] \n",
    "    for directory_path in glob.glob(path): \n",
    "        label = directory_path.split(\"\\\\\")[-1]\n",
    "        print(label)\n",
    "        for img_path in glob.glob(os.path.join(directory_path, \"*.jpg\")):\n",
    "            path_list = img_path.split('\\\\') #return list of 3 items\n",
    "            img_path =  path_list[0] + '/' + path_list[1] +'/'+ path_list[2] #switch '\\' par '/'\n",
    "            print('---',img_path)\n",
    "            img = cv2.imread(img_path,0)\n",
    "            if type(img) == NoneType :\n",
    "                continue\n",
    "            else :            \n",
    "                img = cv2.resize(img, (size, size)) #Resize images\n",
    "                img = img.flatten()\n",
    "                images_set.append(img)\n",
    "                labels_set.append(label)\n",
    "                \n",
    "    images_set = np.array(images_set)\n",
    "    labels_set = np.array(labels_set)\n",
    "    return images_set, labels_set"
   ]
  },
  {
   "cell_type": "code",
   "execution_count": null,
   "id": "3accd8db",
   "metadata": {},
   "outputs": [],
   "source": [
    "images_set, labels_set = data_recovery() #return 2 arrays, the 1st is images_set & 2nd is labels of our images"
   ]
  },
  {
   "cell_type": "code",
   "execution_count": null,
   "id": "96572701",
   "metadata": {},
   "outputs": [],
   "source": [
    "# save our images & labels using pickle\n",
    "pick_img, pick_label = open('images_set.pickle', 'wb'), open('labels_set.pickle', 'wb') \n",
    "pickle.dump(images_set, pick_img)\n",
    "pickle.dump(labels_set, pick_label)\n",
    "pick_img.close()\n",
    "pick_label.close()"
   ]
  },
  {
   "cell_type": "code",
   "execution_count": null,
   "id": "c61e4867",
   "metadata": {},
   "outputs": [],
   "source": [
    "#load our data\n",
    "pick_img, pick_label = open('pick/images_set.pickle', 'rb'), open('pick/labels_set.pickle', 'rb')\n",
    "img_set = pickle.load(pick_img) #load images set\n",
    "label_set = pickle.load(pick_label) # load labels set\n",
    "pick_img.close()\n",
    "pick_label.close()"
   ]
  },
  {
   "cell_type": "code",
   "execution_count": null,
   "id": "5aa915c0",
   "metadata": {},
   "outputs": [],
   "source": [
    "# convert our img and label array to an Dataframe\n",
    "images_set = pd.DataFrame(img_set)\n",
    "labels_set = pd.DataFrame(label_set, columns=['Label'])"
   ]
  },
  {
   "cell_type": "code",
   "execution_count": null,
   "id": "64f4327e",
   "metadata": {},
   "outputs": [],
   "source": [
    "# vizualize our dataframe\n",
    "print(images_set.head())\n",
    "nb_img =  img_set.shape[0]\n",
    "print('nombre d\\'image au total: ', nb_img)\n",
    "\n",
    "print(labels_set.head(3))\n",
    "print(labels_set.tail(3))"
   ]
  },
  {
   "cell_type": "code",
   "execution_count": null,
   "id": "3eb9f501",
   "metadata": {},
   "outputs": [],
   "source": [
    "#count and plot a bar graph.\n",
    "def count_labels():\n",
    "    nb_dog, nb_cat = 0,0\n",
    "    for cpt in label_set:    \n",
    "        if cpt == 'Cat' : nb_cat += 1  \n",
    "        elif cpt  == 'Dog' : nb_dog += 1\n",
    "    ca = [nb_dog, nb_cat]    \n",
    "    plt.bar(['dog','cat'], ca, color=['c','y'])\n",
    "    for i in range(2):\n",
    "        plt.text(i-0.1, ca[i], (ca[i]))\n",
    "    sns.set(font_scale=1.6)\n",
    "    return plt.show()"
   ]
  },
  {
   "cell_type": "code",
   "execution_count": null,
   "id": "7a0babfc",
   "metadata": {},
   "outputs": [],
   "source": [
    "# count labels & plot a bar graph\n",
    "count_labels()"
   ]
  },
  {
   "cell_type": "code",
   "execution_count": null,
   "id": "1b8adc78",
   "metadata": {},
   "outputs": [],
   "source": [
    "def pick_random(data):\n",
    "    length = len(data)\n",
    "    n = rd.randint(0,length)\n",
    "    #dim = (size*size)-1\n",
    "    img = data.loc[n].values\n",
    "    img = img.reshape(128,128)\n",
    "    plt.xlabel('label : '+labels_set['Label'].loc[n])\n",
    "    return plt.imshow(img,cmap='gray')"
   ]
  },
  {
   "cell_type": "code",
   "execution_count": null,
   "id": "104cdcda",
   "metadata": {},
   "outputs": [],
   "source": [
    "pick_random(images_set)"
   ]
  },
  {
   "cell_type": "code",
   "execution_count": null,
   "id": "78ca4321",
   "metadata": {},
   "outputs": [],
   "source": [
    "# Encode label\n",
    "encoder = LabelEncoder()\n",
    "labels_set_encoded =  encoder.fit_transform(labels_set)"
   ]
  },
  {
   "cell_type": "code",
   "execution_count": null,
   "id": "76a1281c",
   "metadata": {},
   "outputs": [],
   "source": [
    "# Normalize pixel values to between 0 and 1 using minmaxscaler\n",
    "scaler = MinMaxScaler()\n",
    "\n",
    "images_set = scaler.fit_transform(images_set) "
   ]
  },
  {
   "cell_type": "code",
   "execution_count": null,
   "id": "fab69e44",
   "metadata": {},
   "outputs": [],
   "source": [
    "#Split data into test and train datasets \n",
    "x_train, x_test, y_train, y_test = train_test_split(images_set, labels_set_encoded,\n",
    "                                                    test_size=0.01, stratify=labels_set_encoded)"
   ]
  },
  {
   "cell_type": "code",
   "execution_count": null,
   "id": "b1ca3bbd",
   "metadata": {},
   "outputs": [],
   "source": [
    "pick_xtrain, pick_xtest, pick_ytrain, pick_ytest = open('pick/x_train.pickle', 'wb'), open('pick/x_test.pickle', 'wb'), open('pick/y_train.pickle', 'wb') , open('pick/y_test.pickle', 'wb')  \n",
    "\n",
    "pickle.dump(x_train, pick_xtrain)\n",
    "pickle.dump(x_test, pick_xtest)\n",
    "pickle.dump(y_train, pick_ytrain)\n",
    "pickle.dump(y_test, pick_ytest)\n",
    "\n",
    "pick_xtrain.close()\n",
    "pick_xtest.close()\n",
    "pick_ytrain.close()\n",
    "pick_ytest.close()"
   ]
  },
  {
   "cell_type": "code",
   "execution_count": null,
   "id": "4e0291bd",
   "metadata": {},
   "outputs": [],
   "source": [
    "pick_xtrain, pick_xtest, pick_ytrain, pick_ytest = open('pick/x_train.pickle', 'rb'), open('pick/x_test.pickle', 'rb'), open('pick/y_train.pickle', 'rb') , open('pick/y_test.pickle', 'rb')  \n",
    "\n",
    "x_train, x_test, y_train, y_test = pickle.load(pick_xtrain), pickle.load(pick_xtest), pickle.load(pick_ytrain), pickle.load(pick_ytest)\n",
    "\n",
    "pick_xtrain.close()\n",
    "pick_xtest.close()\n",
    "pick_ytrain.close()\n",
    "pick_ytest.close()"
   ]
  },
  {
   "cell_type": "code",
   "execution_count": null,
   "id": "9c03a74b",
   "metadata": {},
   "outputs": [],
   "source": [
    "print(f'Xtrain: {x_train.shape} \\nXtest: {x_test.shape} \\nYtrain: {y_train.shape} \\nYtest: {y_test.shape}')"
   ]
  },
  {
   "cell_type": "code",
   "execution_count": null,
   "id": "4318ec85",
   "metadata": {},
   "outputs": [],
   "source": [
    "#Define the classifier\n",
    "model = RandomForestClassifier(n_estimators = 50)"
   ]
  },
  {
   "cell_type": "code",
   "execution_count": null,
   "id": "137a588e",
   "metadata": {},
   "outputs": [],
   "source": [
    "# Fit the model on training data\n",
    "model.fit(x_train, y_train) "
   ]
  },
  {
   "cell_type": "code",
   "execution_count": null,
   "id": "697c0b92",
   "metadata": {},
   "outputs": [],
   "source": [
    "#Predict on test\n",
    "test_prediction = model.predict(x_test)\n",
    "\n",
    "#Inverse le transform to get original label back. \n",
    "test_prediction = encoder.inverse_transform(test_prediction)\n",
    "true_label = encoder.inverse_transform(y_test)"
   ]
  },
  {
   "cell_type": "code",
   "execution_count": null,
   "id": "aa3bb023",
   "metadata": {},
   "outputs": [],
   "source": [
    "#Print overall accuracy\n",
    "print (\"Accuracy score = \", accuracy_score(true_label, test_prediction), '\\n\\n')\n",
    "cm=confusion_matrix(true_label, test_prediction)\n",
    "\n",
    "sns.heatmap(cm, annot=True, fmt='.0f')\n",
    "plt.show()"
   ]
  },
  {
   "cell_type": "code",
   "execution_count": null,
   "id": "970148c2",
   "metadata": {},
   "outputs": [],
   "source": [
    "#save model \n",
    "pick = open('model.sav', 'wb')\n",
    "pickle.dump(model, pick)\n",
    "pick.close()"
   ]
  },
  {
   "cell_type": "code",
   "execution_count": null,
   "id": "28176751",
   "metadata": {},
   "outputs": [],
   "source": [
    "#load model\n",
    "pick = open('pick/model.sav', 'rb')\n",
    "model = pickle.load(pick)\n",
    "pick.close()"
   ]
  },
  {
   "cell_type": "code",
   "execution_count": null,
   "id": "0e413a3a",
   "metadata": {},
   "outputs": [],
   "source": [
    "def test_model(X):\n",
    "    data = X\n",
    "    length = len(data)\n",
    "    n = rd.randint(0,length)\n",
    "    img2predict = data[n]\n",
    "    get_prediction = model.predict([data[n]])\n",
    "    get_prediction = encoder.inverse_transform(get_prediction)\n",
    "    org_img = true_label[n]\n",
    "    print(\"The prediction for this image is: \", get_prediction[0])\n",
    "    print(\"The actual label for this image is: \", org_img)\n",
    "\n",
    "    plt.xlabel('label:'+ org_img)\n",
    "    plt.title('prediction: '+ get_prediction[0])\n",
    "    img2predict = data[n].reshape(128,128)\n",
    "    plt.imshow(img2predict.reshape(128,128),cmap='gray')\n",
    "    return plt.show()"
   ]
  },
  {
   "cell_type": "code",
   "execution_count": null,
   "id": "0ce73824",
   "metadata": {},
   "outputs": [],
   "source": [
    "test_model(x_test)"
   ]
  }
 ],
 "metadata": {
  "kernelspec": {
   "display_name": "Python 3 (ipykernel)",
   "language": "python",
   "name": "python3"
  },
  "language_info": {
   "codemirror_mode": {
    "name": "ipython",
    "version": 3
   },
   "file_extension": ".py",
   "mimetype": "text/x-python",
   "name": "python",
   "nbconvert_exporter": "python",
   "pygments_lexer": "ipython3",
   "version": "3.9.12"
  }
 },
 "nbformat": 4,
 "nbformat_minor": 5
}
